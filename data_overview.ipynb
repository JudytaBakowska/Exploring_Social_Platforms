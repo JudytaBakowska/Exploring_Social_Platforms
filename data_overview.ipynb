{
 "cells": [
  {
   "cell_type": "code",
   "outputs": [],
   "source": [
    "import pandas as pd"
   ],
   "metadata": {
    "collapsed": false,
    "ExecuteTime": {
     "end_time": "2024-06-06T12:57:15.333244Z",
     "start_time": "2024-06-06T12:57:15.329207Z"
    }
   },
   "id": "bd27b4c92bf5a30",
   "execution_count": 4
  },
  {
   "cell_type": "code",
   "outputs": [],
   "source": [
    "twitter_data_df = pd.read_csv('datasets/twitter_data.csv')\n",
    "redit_data_df = pd.read_csv('datasets/reddit_data.csv')\n",
    "twitter_dataset_df = pd.read_csv('datasets/twitter_dataset.csv')"
   ],
   "metadata": {
    "collapsed": true,
    "ExecuteTime": {
     "end_time": "2024-06-06T12:57:22.273250Z",
     "start_time": "2024-06-06T12:57:17.811880Z"
    }
   },
   "id": "initial_id",
   "execution_count": 5
  },
  {
   "cell_type": "code",
   "outputs": [
    {
     "name": "stdout",
     "output_type": "stream",
     "text": [
      "Twitter Data\n",
      "                                                Text Sentiment\n",
      "0  when modi promised “minimum government maximum...  negative\n",
      "1  talk all the nonsense and continue all the dra...   neutral\n",
      "2  what did just say vote for modi  welcome bjp t...  positive\n",
      "3  asking his supporters prefix chowkidar their n...  positive\n",
      "4  answer who among these the most powerful world...  positive\n",
      "Reddit Data\n",
      "                                                Text Sentiment\n",
      "0   family mormon have never tried explain them t...  positive\n",
      "1  buddhism has very much lot compatible with chr...  positive\n",
      "2  seriously don say thing first all they won get...  negative\n",
      "3  what you have learned yours and only yours wha...   neutral\n",
      "4  for your own benefit you may want read living ...  positive\n",
      "Twitter 140 mil Data\n",
      "                           Date             User  \\\n",
      "0  Mon Apr 06 22:19:45 PDT 2009  _TheSpecialOne_   \n",
      "1  Mon Apr 06 22:19:49 PDT 2009    scotthamilton   \n",
      "2  Mon Apr 06 22:19:53 PDT 2009         mattycus   \n",
      "3  Mon Apr 06 22:19:57 PDT 2009          ElleCTF   \n",
      "4  Mon Apr 06 22:19:57 PDT 2009           Karoli   \n",
      "\n",
      "                                                Text Sentiment  \n",
      "0  @switchfoot http://twitpic.com/2y1zl - Awww, t...  negative  \n",
      "1  is upset that he can't update his Facebook by ...  negative  \n",
      "2  @Kenichan I dived many times for the ball. Man...  negative  \n",
      "3    my whole body feels itchy and like its on fire   negative  \n",
      "4  @nationwideclass no, it's not behaving at all....  negative  \n"
     ]
    }
   ],
   "source": [
    "print(\"Twitter Data\")\n",
    "print(twitter_data_df.head())\n",
    "\n",
    "print(\"Reddit Data\")\n",
    "print(redit_data_df.head())\n",
    "\n",
    "print(\"Twitter 140 mil Data\")\n",
    "print(twitter_dataset_df.head())"
   ],
   "metadata": {
    "collapsed": false,
    "ExecuteTime": {
     "end_time": "2024-06-06T12:57:22.288484Z",
     "start_time": "2024-06-06T12:57:22.275807Z"
    }
   },
   "id": "a6caa8b2c12a28bf",
   "execution_count": 6
  },
  {
   "cell_type": "code",
   "outputs": [],
   "source": [],
   "metadata": {
    "collapsed": false,
    "ExecuteTime": {
     "start_time": "2024-06-06T12:34:39.207767Z"
    }
   },
   "id": "8434d3d3e78d725c"
  }
 ],
 "metadata": {
  "kernelspec": {
   "display_name": "Python 3",
   "language": "python",
   "name": "python3"
  },
  "language_info": {
   "codemirror_mode": {
    "name": "ipython",
    "version": 2
   },
   "file_extension": ".py",
   "mimetype": "text/x-python",
   "name": "python",
   "nbconvert_exporter": "python",
   "pygments_lexer": "ipython2",
   "version": "2.7.6"
  }
 },
 "nbformat": 4,
 "nbformat_minor": 5
}
